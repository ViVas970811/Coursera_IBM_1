{
 "cells": [
  {
   "cell_type": "markdown",
   "id": "dd7f0e44",
   "metadata": {},
   "source": [
    "Exercise 2:\n",
    "Tools for Data Science"
   ]
  },
  {
   "cell_type": "markdown",
   "id": "445fc9a0",
   "metadata": {},
   "source": [
    "Exercise 3: Data science relies on various tools to extract insights from data effectively. Some essential tools include:\n",
    "\n",
    "Programming Languages: Python (with libraries like NumPy, Pandas) and R (with packages like ggplot2) are popular choices for data manipulation and analysis.\n",
    "\n",
    "IDEs: Jupyter Notebooks (for interactive data exploration) and RStudio (for R-based projects) facilitate code development and visualization.\n",
    "\n",
    "Data Visualization: Matplotlib, Seaborn (Python), and ggplot2 (R) help create informative and visually appealing plots.\n",
    "\n",
    "Database Management: SQL is crucial for data retrieval, aggregation, and manipulation, while NoSQL databases like MongoDB handle unstructured data.\n",
    "\n",
    "Machine Learning: scikit-learn (Python) and caret (R) offer libraries for classification, regression, clustering, and model evaluation.\n",
    "\n",
    "Big Data Tools: Apache Hadoop and Apache Spark help process and analyze large datasets across distributed systems.\n",
    "\n",
    "Data Cleaning: Tools like OpenRefine, pandas (Python), and dplyr (R) assist in cleaning and transforming messy data.\n",
    "\n",
    "Staying up-to-date with these tools is essential for successful data science endeavors."
   ]
  },
  {
   "cell_type": "markdown",
   "id": "4e59efea",
   "metadata": {},
   "source": [
    "Exercise 4: List of Data Science Languages are:\n",
    "Python\n",
    "R\n",
    "SQL\n",
    "Julia\n",
    "Scala\n",
    "SAS\n",
    "MATLAB\n",
    "Java\n",
    "C/C++\n",
    "JavaScript"
   ]
  },
  {
   "cell_type": "markdown",
   "id": "a9d65560",
   "metadata": {},
   "source": [
    "Exercise 5: List of data science libraries are:\n",
    "NumPy\n",
    "Pandas\n",
    "Matplotlib\n",
    "Seaborn\n",
    "scikit-learn\n",
    "TensorFlow\n",
    "Keras\n",
    "PyTorch\n",
    "ggplot2\n",
    "caret\n",
    "dplyr\n",
    "OpenRefine\n",
    "Weka\n",
    "Deeplearning4j\n",
    "D3.js\n",
    "TensorFlow.js"
   ]
  },
  {
   "cell_type": "raw",
   "id": "80ddcd4b",
   "metadata": {},
   "source": [
    "Exercise 6: \n",
    "| Category             | Tools                                   |\n",
    "|----------------------|-----------------------------------------|\n",
    "| **Programming Languages** | Python, R, SQL, Julia, Scala, SAS, MATLAB, Java, C/C++, JavaScript |\n",
    "| **IDEs**                  | Jupyter Notebooks, RStudio, PyCharm, Spyder, Visual Studio Code |\n",
    "| **Data Visualization**   | Matplotlib, Seaborn, ggplot2, Plotly, Tableau, D3.js, Bokeh |\n",
    "| **Database Management**  | MySQL, PostgreSQL, MongoDB, Oracle, Microsoft SQL Server |\n",
    "| **Machine Learning**     | scikit-learn, TensorFlow, Keras, PyTorch, caret, XGBoost, LightGBM |\n",
    "| **Big Data Tools**       | Apache Hadoop, Apache Spark, Apache Flink, HBase, Hive, Pig |\n",
    "| **Data Cleaning**        | OpenRefine, pandas, dplyr, DataWrangler |\n",
    "| **Statistical Analysis** | SciPy, statsmodels, SAS, SPSS, JMP |\n",
    "| **Web Scraping**         | Beautiful Soup, Scrapy, Selenium |\n",
    "| **Cloud Platforms**      | Google Cloud Platform (GCP), Amazon Web Services (AWS), Microsoft Azure |\n",
    "| **Version Control**      | Git, GitHub, GitLab, Bitbucket |\n",
    "| **Collaboration**        | Slack, Microsoft Teams, Trello, Asana |"
   ]
  },
  {
   "cell_type": "markdown",
   "id": "78b2f5c9",
   "metadata": {},
   "source": [
    "Exercise 7:\n",
    "Here are some examples of arithmetic expressions:\n",
    "\n",
    "1. Addition:\n",
    "   - `2 + 3` equals `5`\n",
    "   - `15 + 7` equals `22`\n",
    "\n",
    "2. Subtraction:\n",
    "   - `8 - 5` equals `3`\n",
    "   - `10 - 12` equals `-2`\n",
    "\n",
    "3. Multiplication:\n",
    "   - `4 * 5` equals `20`\n",
    "   - `3.14 * 2` equals `6.28`\n",
    "\n",
    "4. Division:\n",
    "   - `10 / 2` equals `5`\n",
    "   - `15 / 4` equals `3.75`\n",
    "\n",
    "5. Mixed expressions:\n",
    "   - `(5 + 3) * 2` equals `16`\n",
    "   - `12 / (2 + 2)` equals `3`\n"
   ]
  },
  {
   "cell_type": "code",
   "execution_count": 2,
   "id": "2bcc4a3b",
   "metadata": {},
   "outputs": [
    {
     "name": "stdout",
     "output_type": "stream",
     "text": [
      "5 * 3 = 15\n",
      "10 + 7 = 17\n"
     ]
    }
   ],
   "source": [
    "#Exercise 8:\n",
    "# Multiplication\n",
    "num1 = 5\n",
    "num2 = 3\n",
    "result_multiply = num1 * num2\n",
    "print(f\"{num1} * {num2} = {result_multiply}\")\n",
    "\n",
    "# Addition\n",
    "num3 = 10\n",
    "num4 = 7\n",
    "result_addition = num3 + num4\n",
    "print(f\"{num3} + {num4} = {result_addition}\")"
   ]
  },
  {
   "cell_type": "code",
   "execution_count": 3,
   "id": "4abc7f89",
   "metadata": {},
   "outputs": [
    {
     "name": "stdout",
     "output_type": "stream",
     "text": [
      "150 minutes is equal to 2.50 hours\n"
     ]
    }
   ],
   "source": [
    "#Exercise 9:\n",
    "def minutes_to_hours(minutes):\n",
    "    hours = minutes / 60\n",
    "    return hours\n",
    "\n",
    "minutes_input = 150\n",
    "hours_output = minutes_to_hours(minutes_input)\n",
    "print(f\"{minutes_input} minutes is equal to {hours_output:.2f} hours\")"
   ]
  },
  {
   "cell_type": "markdown",
   "id": "921c127d",
   "metadata": {},
   "source": [
    "Exercise 10:\n",
    "In this data science project, our main objectives are:\n",
    "\n",
    "1. **Data Collection**: Gather relevant data from various sources to form a comprehensive dataset for analysis.\n",
    "\n",
    "2. **Data Cleaning**: Preprocess the data by handling missing values, removing duplicates, and addressing inconsistencies.\n",
    "\n",
    "3. **Exploratory Data Analysis (EDA)**: Perform EDA to gain insights into the data, visualize patterns, and identify trends.\n",
    "\n",
    "4. **Feature Engineering**: Create new features or transform existing ones to enhance the predictive power of the data.\n",
    "\n",
    "5. **Model Building**: Develop predictive models using machine learning algorithms to solve specific problems.\n",
    "\n",
    "6. **Model Evaluation**: Assess the performance of the models using appropriate evaluation metrics.\n",
    "\n",
    "7. **Model Tuning**: Fine-tune the models to optimize their performance and generalization.\n",
    "\n",
    "8. **Data Visualization**: Create visualizations to communicate findings effectively and support decision-making.\n",
    "\n",
    "9. **Interpretation and Insights**: Derive meaningful insights from the analysis and draw actionable conclusions.\n",
    "\n",
    "10. **Documentation**: Record the entire data science process, including the steps taken and results obtained.\n",
    "\n",
    "11. **Communication**: Present the findings in a clear and concise manner to stakeholders or team members.\n",
    "\n",
    "By accomplishing these objectives, we aim to gain a deeper understanding of the data and develop models that can provide valuable insights and predictions for the problem at hand.\n"
   ]
  },
  {
   "cell_type": "markdown",
   "id": "1c2142ce",
   "metadata": {},
   "source": [
    "Exercise 11: Vivek Vasisht E"
   ]
  }
 ],
 "metadata": {
  "kernelspec": {
   "display_name": "Python 3 (ipykernel)",
   "language": "python",
   "name": "python3"
  },
  "language_info": {
   "codemirror_mode": {
    "name": "ipython",
    "version": 3
   },
   "file_extension": ".py",
   "mimetype": "text/x-python",
   "name": "python",
   "nbconvert_exporter": "python",
   "pygments_lexer": "ipython3",
   "version": "3.9.13"
  }
 },
 "nbformat": 4,
 "nbformat_minor": 5
}
